{
 "cells": [
  {
   "cell_type": "markdown",
   "metadata": {},
   "source": [
    "# Stage 1 Funnel - Identify promising KS Portfolio combinations"
   ]
  },
  {
   "cell_type": "code",
   "execution_count": 1,
   "metadata": {},
   "outputs": [],
   "source": [
    "import pandas as pd\n",
    "import matplotlib.pyplot as plt\n",
    "import numpy as np\n",
    "import sys\n",
    "import seaborn as sns\n",
    "import datetime as dt\n",
    "import os\n",
    "import re\n",
    "import os, sys, importlib, math, string\n",
    "import connector as hk"
   ]
  },
  {
   "cell_type": "markdown",
   "metadata": {},
   "source": [
    "## 1. Identify portfolios with a high percentage of spend on high impressionshare campaigns"
   ]
  },
  {
   "cell_type": "markdown",
   "metadata": {},
   "source": [
    "__pull campaign and portfolio ids within the KS during the time frame being considered__"
   ]
  },
  {
   "cell_type": "code",
   "execution_count": 2,
   "metadata": {},
   "outputs": [],
   "source": [
    "\n",
    "\n",
    "def identifier(KSlist, spend_thrshold_per, start_date, end_date):\n",
    "    exceptions = []\n",
    "    d = pd.DataFrame(columns=['portfolio_id','cost','ports','%spendhighimprshare','cost_on_high_imprshare'])\n",
    "    exceptions = []\n",
    "    for KS in KSlist:\n",
    "        try:\n",
    "        \n",
    "            K = KS[2:]\n",
    "            num = K\n",
    "            num = re.sub(r'^11', \"41\", num)\n",
    "            num = re.sub(r'^12', \"42\", num)\n",
    "            num = re.sub(r'^15', \"40\", num)\n",
    "            ks_id = num\n",
    "            host = 'eclidb'+str(ks_id)+'.kenshooprd.local'\n",
    "            _mysql_connector = __import__('mysql.connector').connector if sys.version_info.major == 2 else __import__('pymysql')\n",
    "            cnx = _mysql_connector.connect(user='query',password='query', database='kazaam',host=host)\n",
    "    \n",
    "            portmembers = f'''\n",
    "            select campaign_id, portfolio_id\n",
    "            from portfolio_members \n",
    "            where start_date < '{start_date}'\n",
    "            and end_date is NULL\n",
    "            '''\n",
    "            portmember = pd.DataFrame(pd.read_sql(portmembers, con=cnx))\n",
    "            CampaignList = portmember['campaign_id']\n",
    "            if len(CampaignList) == 0:\n",
    "                continue\n",
    "            CampaignList_SQL = ','.join(map(str, CampaignList))\n",
    "        \n",
    "        \n",
    "    \n",
    "            queryPerfCamp =f''' \n",
    "            select *\n",
    "            from performance_by_campaign_id\n",
    "            where campaign_id in ({CampaignList_SQL})\n",
    "            and date BETWEEN '{start_date}' and '{end_date}'\n",
    "            and cost > 0\n",
    "               \n",
    "            '''\n",
    "            PerfCamp = pd.DataFrame(pd.read_sql(queryPerfCamp, con=cnx))\n",
    "    \n",
    "            df = pd.merge(PerfCamp, portmember, how = 'inner', left_on = ['campaign_id'], right_on = ['campaign_id'])\n",
    "            dft = df.groupby(['portfolio_id','campaign_id']).agg({'imprShare':'median', 'cost':'sum', 'clicks': 'sum'})\n",
    "            dft = dft.reset_index()\n",
    "            portlist = df.portfolio_id.unique()\n",
    "        \n",
    "            hists = []\n",
    "            for portfolio in portlist:\n",
    "                #create a unique dataframe for each portfolio\n",
    "                portdf = dft[(dft['portfolio_id'] == portfolio)]\n",
    "                #within each portfolio calculate the sum of spend on high imprshare campaigns (>0.98) divided by the overall spend \n",
    "                hists.append(portdf[portdf['imprShare'] > 0.98]['cost'].sum()/ portdf['cost'].sum())\n",
    "            ports = pd.DataFrame(zip(portlist, hists), columns = ['ports', '%spendhighimprshare'])\n",
    "            portspend = dft.groupby('portfolio_id').agg({'cost': 'sum'})\n",
    "            portspend = portspend.reset_index()\n",
    "    \n",
    "            costs_allports = pd.merge(portspend, ports, left_on = 'portfolio_id', right_on = 'ports', how = 'inner')\n",
    "            costs_allports['cost_on_high_imprshare'] = costs_allports['cost']*costs_allports['%spendhighimprshare']\n",
    "            table = costs_allports.sort_values('cost_on_high_imprshare', ascending = False)\n",
    "            #filter for KS/Portfolio combinations with 'spend_threshold_per' or more of their spend on high impressionshare campaigns\n",
    "            table = table[table['%spendhighimprshare'] >= spend_thrshold_per]\n",
    "            table['KS'] = KS\n",
    "            d = pd.concat(objs = [d,table], sort = True)\n",
    "        \n",
    "            d= d.sort_values(by = '%spendhighimprshare', ascending = False)\n",
    "            d= d.sort_values(by = 'cost_on_high_imprshare', ascending = False)\n",
    "        except:\n",
    "            exceptions.append(KS)\n",
    "    return d"
   ]
  },
  {
   "cell_type": "markdown",
   "metadata": {},
   "source": [
    "## Get list of ksnames"
   ]
  },
  {
   "cell_type": "code",
   "execution_count": 3,
   "metadata": {},
   "outputs": [],
   "source": [
    "sys.path.insert(0, '../../classes/')\n",
    "\n",
    "\n",
    "\n",
    "importlib.reload(hk)\n",
    "ksc = hk.KSC()"
   ]
  },
  {
   "cell_type": "code",
   "execution_count": 4,
   "metadata": {},
   "outputs": [
    {
     "name": "stdout",
     "output_type": "stream",
     "text": [
      "select DISTINCT(ksname) from dwh_prod.performance_by_portfolio\n",
      " \n"
     ]
    }
   ],
   "source": [
    "q = \"\"\"select DISTINCT(ksname) from dwh_prod.performance_by_portfolio\n",
    " \"\"\" \n",
    "\n",
    "print(q)"
   ]
  },
  {
   "cell_type": "code",
   "execution_count": 5,
   "metadata": {},
   "outputs": [
    {
     "data": {
      "text/plain": [
       "570"
      ]
     },
     "execution_count": 5,
     "metadata": {},
     "output_type": "execute_result"
    }
   ],
   "source": [
    "ksdf = ksc.query('hive', q)\n",
    "len(ksdf)"
   ]
  },
  {
   "cell_type": "code",
   "execution_count": 6,
   "metadata": {},
   "outputs": [
    {
     "data": {
      "text/html": [
       "<div>\n",
       "<style scoped>\n",
       "    .dataframe tbody tr th:only-of-type {\n",
       "        vertical-align: middle;\n",
       "    }\n",
       "\n",
       "    .dataframe tbody tr th {\n",
       "        vertical-align: top;\n",
       "    }\n",
       "\n",
       "    .dataframe thead th {\n",
       "        text-align: right;\n",
       "    }\n",
       "</style>\n",
       "<table border=\"1\" class=\"dataframe\">\n",
       "  <thead>\n",
       "    <tr style=\"text-align: right;\">\n",
       "      <th></th>\n",
       "      <th>ksname</th>\n",
       "    </tr>\n",
       "  </thead>\n",
       "  <tbody>\n",
       "    <tr>\n",
       "      <td>0</td>\n",
       "      <td>KS1101</td>\n",
       "    </tr>\n",
       "    <tr>\n",
       "      <td>1</td>\n",
       "      <td>KS1102</td>\n",
       "    </tr>\n",
       "    <tr>\n",
       "      <td>2</td>\n",
       "      <td>KS1104</td>\n",
       "    </tr>\n",
       "    <tr>\n",
       "      <td>3</td>\n",
       "      <td>KS1105</td>\n",
       "    </tr>\n",
       "    <tr>\n",
       "      <td>4</td>\n",
       "      <td>KS1106</td>\n",
       "    </tr>\n",
       "  </tbody>\n",
       "</table>\n",
       "</div>"
      ],
      "text/plain": [
       "   ksname\n",
       "0  KS1101\n",
       "1  KS1102\n",
       "2  KS1104\n",
       "3  KS1105\n",
       "4  KS1106"
      ]
     },
     "execution_count": 6,
     "metadata": {},
     "output_type": "execute_result"
    }
   ],
   "source": [
    "ksdf.head()"
   ]
  },
  {
   "cell_type": "markdown",
   "metadata": {},
   "source": [
    "## rank portfolios by cost on high impressionshare"
   ]
  },
  {
   "cell_type": "code",
   "execution_count": 7,
   "metadata": {},
   "outputs": [
    {
     "data": {
      "text/html": [
       "<div>\n",
       "<style scoped>\n",
       "    .dataframe tbody tr th:only-of-type {\n",
       "        vertical-align: middle;\n",
       "    }\n",
       "\n",
       "    .dataframe tbody tr th {\n",
       "        vertical-align: top;\n",
       "    }\n",
       "\n",
       "    .dataframe thead th {\n",
       "        text-align: right;\n",
       "    }\n",
       "</style>\n",
       "<table border=\"1\" class=\"dataframe\">\n",
       "  <thead>\n",
       "    <tr style=\"text-align: right;\">\n",
       "      <th></th>\n",
       "      <th>%spendhighimprshare</th>\n",
       "      <th>KS</th>\n",
       "      <th>cost</th>\n",
       "      <th>cost_on_high_imprshare</th>\n",
       "      <th>portfolio_id</th>\n",
       "      <th>ports</th>\n",
       "    </tr>\n",
       "  </thead>\n",
       "  <tbody>\n",
       "    <tr>\n",
       "      <td>3</td>\n",
       "      <td>1.000000</td>\n",
       "      <td>KS5103</td>\n",
       "      <td>586548.959778</td>\n",
       "      <td>586548.959778</td>\n",
       "      <td>21.0</td>\n",
       "      <td>21.0</td>\n",
       "    </tr>\n",
       "    <tr>\n",
       "      <td>0</td>\n",
       "      <td>0.976331</td>\n",
       "      <td>KS3316</td>\n",
       "      <td>565199.531829</td>\n",
       "      <td>551821.620163</td>\n",
       "      <td>3.0</td>\n",
       "      <td>3.0</td>\n",
       "    </tr>\n",
       "    <tr>\n",
       "      <td>0</td>\n",
       "      <td>1.000000</td>\n",
       "      <td>KS7156</td>\n",
       "      <td>257129.555176</td>\n",
       "      <td>257129.555176</td>\n",
       "      <td>54.0</td>\n",
       "      <td>54.0</td>\n",
       "    </tr>\n",
       "    <tr>\n",
       "      <td>0</td>\n",
       "      <td>1.000000</td>\n",
       "      <td>KS3651</td>\n",
       "      <td>212660.249023</td>\n",
       "      <td>212660.249023</td>\n",
       "      <td>1.0</td>\n",
       "      <td>1.0</td>\n",
       "    </tr>\n",
       "    <tr>\n",
       "      <td>4</td>\n",
       "      <td>1.000000</td>\n",
       "      <td>KS3736</td>\n",
       "      <td>84847.439682</td>\n",
       "      <td>84847.439682</td>\n",
       "      <td>7.0</td>\n",
       "      <td>7.0</td>\n",
       "    </tr>\n",
       "  </tbody>\n",
       "</table>\n",
       "</div>"
      ],
      "text/plain": [
       "   %spendhighimprshare      KS           cost  cost_on_high_imprshare  \\\n",
       "3             1.000000  KS5103  586548.959778           586548.959778   \n",
       "0             0.976331  KS3316  565199.531829           551821.620163   \n",
       "0             1.000000  KS7156  257129.555176           257129.555176   \n",
       "0             1.000000  KS3651  212660.249023           212660.249023   \n",
       "4             1.000000  KS3736   84847.439682            84847.439682   \n",
       "\n",
       "   portfolio_id  ports  \n",
       "3          21.0   21.0  \n",
       "0           3.0    3.0  \n",
       "0          54.0   54.0  \n",
       "0           1.0    1.0  \n",
       "4           7.0    7.0  "
      ]
     },
     "execution_count": 7,
     "metadata": {},
     "output_type": "execute_result"
    }
   ],
   "source": [
    "table = identifier(ksdf['ksname'], 0.95, '2019-10-01', '2019-10-31')\n",
    "table.head()"
   ]
  },
  {
   "cell_type": "code",
   "execution_count": 8,
   "metadata": {},
   "outputs": [],
   "source": [
    "table.to_csv('clickshare_stage_one_funnel.csv')"
   ]
  },
  {
   "cell_type": "code",
   "execution_count": null,
   "metadata": {},
   "outputs": [],
   "source": []
  }
 ],
 "metadata": {
  "kernelspec": {
   "display_name": "Python 3",
   "language": "python",
   "name": "python3"
  },
  "language_info": {
   "codemirror_mode": {
    "name": "ipython",
    "version": 3
   },
   "file_extension": ".py",
   "mimetype": "text/x-python",
   "name": "python",
   "nbconvert_exporter": "python",
   "pygments_lexer": "ipython3",
   "version": "3.7.4"
  }
 },
 "nbformat": 4,
 "nbformat_minor": 2
}
